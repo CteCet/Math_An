{
 "cells": [
  {
   "cell_type": "code",
   "execution_count": 5,
   "metadata": {},
   "outputs": [],
   "source": [
    "import numpy as np\n",
    "from math import factorial "
   ]
  },
  {
   "cell_type": "code",
   "execution_count": 6,
   "metadata": {},
   "outputs": [],
   "source": [
    "def combinations(n,k):\n",
    "    return int(factorial(n)/(factorial(k)*factorial(n-k)))"
   ]
  },
  {
   "cell_type": "markdown",
   "metadata": {},
   "source": [
    "Задание 1"
   ]
  },
  {
   "cell_type": "code",
   "execution_count": 10,
   "metadata": {},
   "outputs": [],
   "source": [
    "n=100\n",
    "k=85\n",
    "p=0.8\n",
    "P_85 = combinations(n,k) * p**k * (1-p)**(n-k)"
   ]
  },
  {
   "cell_type": "code",
   "execution_count": 11,
   "metadata": {},
   "outputs": [
    {
     "name": "stdout",
     "output_type": "stream",
     "text": [
      "0.048061793700746355\n"
     ]
    }
   ],
   "source": [
    "print(P_85)"
   ]
  },
  {
   "cell_type": "markdown",
   "metadata": {},
   "source": [
    "Задание 2"
   ]
  },
  {
   "cell_type": "code",
   "execution_count": 14,
   "metadata": {},
   "outputs": [
    {
     "name": "stdout",
     "output_type": "stream",
     "text": [
      "0.1353352832366127\n",
      "0.2706705664732254\n"
     ]
    }
   ],
   "source": [
    "p = 0.0004\n",
    "n = 5000\n",
    "lambda_ = n*p\n",
    "m1 = 0\n",
    "m2 = 2\n",
    "#1)\n",
    "P_5000 = (lambda_**m1 * np.exp(-lambda_)) / np.math.factorial(m1)\n",
    "print(P_5000)\n",
    "#2)\n",
    "P_5000 = (lambda_**m2 * np.exp(-lambda_)) / np.math.factorial(m2)\n",
    "print(P_5000)"
   ]
  },
  {
   "cell_type": "markdown",
   "metadata": {},
   "source": [
    "Задание 3"
   ]
  },
  {
   "cell_type": "code",
   "execution_count": 15,
   "metadata": {},
   "outputs": [],
   "source": [
    "n = 144\n",
    "k = 70\n",
    "p = 0.5\n",
    "P_70 = combinations(n,k) * p**k * (1-p)**(n-k)"
   ]
  },
  {
   "cell_type": "code",
   "execution_count": 16,
   "metadata": {},
   "outputs": [
    {
     "name": "stdout",
     "output_type": "stream",
     "text": [
      "0.06281178035144776\n"
     ]
    }
   ],
   "source": [
    "print(P_70)"
   ]
  },
  {
   "cell_type": "markdown",
   "metadata": {},
   "source": [
    "Задание 4"
   ]
  },
  {
   "cell_type": "code",
   "execution_count": 22,
   "metadata": {},
   "outputs": [],
   "source": [
    "#1)\n",
    "p1 = 7/10\n",
    "n = 2\n",
    "k = 2\n",
    "\n",
    "P1_2w = combinations(n,k) * p1**k * (1-p1)**(n-k)\n",
    "\n",
    "p2 = 9/11\n",
    "P2_2w = combinations(n,k) * p2**k * (1-p2)**(n-k)\n",
    "\n",
    "P_w = P1_2w * P2_2w"
   ]
  },
  {
   "cell_type": "code",
   "execution_count": 24,
   "metadata": {},
   "outputs": [
    {
     "name": "stdout",
     "output_type": "stream",
     "text": [
      "0.48999999999999994\n",
      "0.6694214876033059\n",
      "0.32801652892561983\n"
     ]
    }
   ],
   "source": [
    "print(P1_2w)\n",
    "print(P2_2w)\n",
    "print(P_w)"
   ]
  },
  {
   "cell_type": "code",
   "execution_count": 27,
   "metadata": {},
   "outputs": [],
   "source": [
    "#2)\n",
    "p1 = 7/10\n",
    "n = 2\n",
    "k = 0\n",
    "\n",
    "P1_0w = combinations(n,k) * p1**k * (1-p1)**(n-k)\n",
    "\n",
    "p2 = 9/11\n",
    "\n",
    "P2_0w = combinations(n,k) * p2**k * (1-p2)**(n-k)"
   ]
  },
  {
   "cell_type": "code",
   "execution_count": 28,
   "metadata": {},
   "outputs": [
    {
     "name": "stdout",
     "output_type": "stream",
     "text": [
      "0.09000000000000002\n",
      "0.0330578512396694\n"
     ]
    }
   ],
   "source": [
    "print(P1_0w)\n",
    "print(P2_0w)"
   ]
  },
  {
   "cell_type": "code",
   "execution_count": 31,
   "metadata": {},
   "outputs": [],
   "source": [
    "p1 = 7/10\n",
    "n = 2\n",
    "k = 1\n",
    "\n",
    "P1_1w = combinations(n,k) * p1**k * (1-p1)**(n-k)\n",
    "\n",
    "p2 = 9/11\n",
    "\n",
    "P2_1w = combinations(n,k) * p2**k * (1-p2)**(n-k)"
   ]
  },
  {
   "cell_type": "code",
   "execution_count": 32,
   "metadata": {},
   "outputs": [
    {
     "name": "stdout",
     "output_type": "stream",
     "text": [
      "0.42000000000000004\n",
      "0.29752066115702475\n"
     ]
    }
   ],
   "source": [
    "print(P1_1w)\n",
    "print(P2_1w)"
   ]
  },
  {
   "cell_type": "code",
   "execution_count": 33,
   "metadata": {},
   "outputs": [],
   "source": [
    "P_2w = P1_2w*P2_0w + P1_0w*P2_2w + P1_1w*P2_1w"
   ]
  },
  {
   "cell_type": "code",
   "execution_count": 34,
   "metadata": {},
   "outputs": [
    {
     "name": "stdout",
     "output_type": "stream",
     "text": [
      "0.20140495867768599\n"
     ]
    }
   ],
   "source": [
    "print(P_2w)"
   ]
  },
  {
   "cell_type": "code",
   "execution_count": 35,
   "metadata": {},
   "outputs": [
    {
     "name": "stdout",
     "output_type": "stream",
     "text": [
      "0.9970247933884298\n"
     ]
    }
   ],
   "source": [
    "#3\n",
    "P_1w = 1 - P1_0w*P2_0w\n",
    "print(P_1w)"
   ]
  },
  {
   "cell_type": "code",
   "execution_count": null,
   "metadata": {},
   "outputs": [],
   "source": []
  }
 ],
 "metadata": {
  "kernelspec": {
   "display_name": "Python 3",
   "language": "python",
   "name": "python3"
  },
  "language_info": {
   "codemirror_mode": {
    "name": "ipython",
    "version": 3
   },
   "file_extension": ".py",
   "mimetype": "text/x-python",
   "name": "python",
   "nbconvert_exporter": "python",
   "pygments_lexer": "ipython3",
   "version": "3.7.6"
  }
 },
 "nbformat": 4,
 "nbformat_minor": 4
}
