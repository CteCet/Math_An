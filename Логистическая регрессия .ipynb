{
 "cells": [
  {
   "cell_type": "code",
   "execution_count": 1,
   "metadata": {},
   "outputs": [],
   "source": [
    "import numpy as np"
   ]
  },
  {
   "cell_type": "code",
   "execution_count": 8,
   "metadata": {},
   "outputs": [],
   "source": [
    "m = 3 #A\n",
    "k = 4 #B\n",
    "n = 4"
   ]
  },
  {
   "cell_type": "code",
   "execution_count": 6,
   "metadata": {},
   "outputs": [],
   "source": [
    "y1 = np.array([2.68, 3.29, 2.88, 4.45], dtype=np.float64)\n",
    "y2 = np.array([4.12, 4.96, 5.09, 5.22], dtype=np.float64)\n",
    "y3 =  np.array([5.52, 4.50, 5.42, 5.29], dtype=np.float64)"
   ]
  },
  {
   "cell_type": "code",
   "execution_count": 21,
   "metadata": {},
   "outputs": [
    {
     "name": "stdout",
     "output_type": "stream",
     "text": [
      "4.1066666666666665\n"
     ]
    }
   ],
   "source": [
    "yj_1 = (y1[0] + y2[0] + y3[0])/m\n",
    "print(yj_1)"
   ]
  },
  {
   "cell_type": "code",
   "execution_count": 17,
   "metadata": {},
   "outputs": [
    {
     "name": "stdout",
     "output_type": "stream",
     "text": [
      "4.25\n"
     ]
    }
   ],
   "source": [
    "yj_2 = (y1[1]+ y2[1]+ y3[1])/m\n",
    "print(yj_2)"
   ]
  },
  {
   "cell_type": "code",
   "execution_count": 18,
   "metadata": {},
   "outputs": [
    {
     "name": "stdout",
     "output_type": "stream",
     "text": [
      "4.463333333333334\n"
     ]
    }
   ],
   "source": [
    "yj_3 = (y1[2]+ y2[2]+ y3[2])/m\n",
    "print(yj_3)"
   ]
  },
  {
   "cell_type": "code",
   "execution_count": 19,
   "metadata": {},
   "outputs": [
    {
     "name": "stdout",
     "output_type": "stream",
     "text": [
      "4.986666666666667\n"
     ]
    }
   ],
   "source": [
    "yj_4 = (y1[3]+ y2[3]+ y3[3])/m\n",
    "print(yj_4)"
   ]
  },
  {
   "cell_type": "code",
   "execution_count": 31,
   "metadata": {},
   "outputs": [
    {
     "name": "stdout",
     "output_type": "stream",
     "text": [
      "3.325\n"
     ]
    }
   ],
   "source": [
    "yi_1 = np.sum(y1)/k\n",
    "print(yi_1)"
   ]
  },
  {
   "cell_type": "code",
   "execution_count": 27,
   "metadata": {},
   "outputs": [
    {
     "name": "stdout",
     "output_type": "stream",
     "text": [
      "4.8475\n"
     ]
    }
   ],
   "source": [
    "yi_2 = sum(y2)/k\n",
    "print(yi_2)"
   ]
  },
  {
   "cell_type": "code",
   "execution_count": 28,
   "metadata": {},
   "outputs": [
    {
     "name": "stdout",
     "output_type": "stream",
     "text": [
      "5.1825\n"
     ]
    }
   ],
   "source": [
    "yi_3 = sum(y3)/k\n",
    "print(yi_3)"
   ]
  },
  {
   "cell_type": "code",
   "execution_count": 30,
   "metadata": {},
   "outputs": [
    {
     "data": {
      "text/plain": [
       "4.451666666666667"
      ]
     },
     "execution_count": 30,
     "metadata": {},
     "output_type": "execute_result"
    }
   ],
   "source": [
    "y_mean = (yi_1+ yi_2+yi_3 + yj_1 + yj_2 + yj_3 + yj_4)/7\n",
    "y_mean"
   ]
  },
  {
   "cell_type": "code",
   "execution_count": 32,
   "metadata": {},
   "outputs": [
    {
     "data": {
      "text/plain": [
       "4.014500000000007"
      ]
     },
     "execution_count": 32,
     "metadata": {},
     "output_type": "execute_result"
    }
   ],
   "source": [
    "S_A = (((yj_1 - y_mean)**2)*m +((yj_2 - y_mean)**2)*m + ((yj_3 - y_mean)**2)*m + ((yj_4 - y_mean)**2)*m)*m\n",
    "S_A"
   ]
  },
  {
   "cell_type": "code",
   "execution_count": 34,
   "metadata": {},
   "outputs": [
    {
     "data": {
      "text/plain": [
       "31.362866666666662"
      ]
     },
     "execution_count": 34,
     "metadata": {},
     "output_type": "execute_result"
    }
   ],
   "source": [
    "S_B = (((yi_1 - y_mean)**2)*k +((yi_2 - y_mean)**2)*k + ((yi_3 - y_mean)**2)*k)*k\n",
    "S_B"
   ]
  },
  {
   "cell_type": "code",
   "execution_count": 35,
   "metadata": {},
   "outputs": [
    {
     "data": {
      "text/plain": [
       "array([2.68, 3.29, 2.88, 4.45, 4.12, 4.96, 5.09, 5.22, 5.52, 4.5 , 5.42,\n",
       "       5.29])"
      ]
     },
     "execution_count": 35,
     "metadata": {},
     "output_type": "execute_result"
    }
   ],
   "source": [
    "y_all =  np.concatenate([y1, y2, y3])\n",
    "y_all"
   ]
  },
  {
   "cell_type": "code",
   "execution_count": 42,
   "metadata": {},
   "outputs": [
    {
     "data": {
      "text/plain": [
       "3.907372222222224"
      ]
     },
     "execution_count": 42,
     "metadata": {},
     "output_type": "execute_result"
    }
   ],
   "source": [
    "s2_r= np.sum((y1 - yj_1 - yi_1 + y_mean)**2) + np.sum((y2 -  yj_2 - yi_2 + y_mean)**2) + np.sum((y3 -  yj_3 - yi_3 + y_mean)**2)\n",
    "s2_r"
   ]
  },
  {
   "cell_type": "code",
   "execution_count": 45,
   "metadata": {},
   "outputs": [
    {
     "data": {
      "text/plain": [
       "0.33816666666666895"
      ]
     },
     "execution_count": 45,
     "metadata": {},
     "output_type": "execute_result"
    }
   ],
   "source": [
    "s2_A = S_A/m-1\n",
    "s2_A"
   ]
  },
  {
   "cell_type": "code",
   "execution_count": 46,
   "metadata": {},
   "outputs": [
    {
     "data": {
      "text/plain": [
       "6.8407166666666654"
      ]
     },
     "execution_count": 46,
     "metadata": {},
     "output_type": "execute_result"
    }
   ],
   "source": [
    "s2_B = S_B/k-1\n",
    "s2_B"
   ]
  },
  {
   "cell_type": "code",
   "execution_count": 49,
   "metadata": {},
   "outputs": [
    {
     "data": {
      "text/plain": [
       "5.861058333333336"
      ]
     },
     "execution_count": 49,
     "metadata": {},
     "output_type": "execute_result"
    }
   ],
   "source": [
    "s2_ris = s2_r/(m-1)*(k-1)\n",
    "s2_ris"
   ]
  }
 ],
 "metadata": {
  "kernelspec": {
   "display_name": "Python 3",
   "language": "python",
   "name": "python3"
  },
  "language_info": {
   "codemirror_mode": {
    "name": "ipython",
    "version": 3
   },
   "file_extension": ".py",
   "mimetype": "text/x-python",
   "name": "python",
   "nbconvert_exporter": "python",
   "pygments_lexer": "ipython3",
   "version": "3.7.6"
  }
 },
 "nbformat": 4,
 "nbformat_minor": 4
}
